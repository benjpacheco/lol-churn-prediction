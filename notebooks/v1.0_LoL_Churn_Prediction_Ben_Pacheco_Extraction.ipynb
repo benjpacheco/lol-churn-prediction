{
 "cells": [
  {
   "cell_type": "markdown",
   "id": "5db99117",
   "metadata": {},
   "source": [
    "## League of Legends Churn Prediction [Extraction] - Ben Pacheco"
   ]
  },
  {
   "cell_type": "markdown",
   "id": "891a4b3d",
   "metadata": {},
   "source": [
    "In this notebook I will call on the Riot API endpoints to extract the JSON data that I need for my churn prediction. After I extract all the sufficient data I will transform it into tabular form in the next notebook."
   ]
  },
  {
   "cell_type": "markdown",
   "id": "c35e6cf9",
   "metadata": {},
   "source": [
    "### Preface"
   ]
  },
  {
   "cell_type": "markdown",
   "id": "4eaa65d0",
   "metadata": {},
   "source": [
    "#### Accessing the Data\n",
    "\n",
    "In order to get the final master dataset that I need to perform analysis on I need to query from multiple endpoints. \n",
    "\n",
    "* From the league v5 endpoint I will get the ranked data.\n",
    "* Using that ranked data I will then query for summoner data.\n",
    "* Using that summoner data I will query for the player user ids (puuids)\n",
    "* And finally using those puuids will allow me to query for match data.\n",
    "\n",
    "Joining the ranked + match data should give me all the data that I need. Let's get started!"
   ]
  },
  {
   "cell_type": "markdown",
   "id": "650ba05a",
   "metadata": {},
   "source": [
    "#### Limitations\n",
    "\n",
    "We are limited by Riot to 100 requests per 2 min. You will notice throughout the notebook that I had to call on several endpoints multiple times in order to not seem suspicious to the server.\n",
    "\n",
    "The request outputs and some prints have been omitted due to loading speed."
   ]
  },
  {
   "cell_type": "code",
   "execution_count": 4,
   "id": "b9cbcdbe",
   "metadata": {},
   "outputs": [
    {
     "name": "stdout",
     "output_type": "stream",
     "text": [
      "The dotenv extension is already loaded. To reload it, use:\n",
      "  %reload_ext dotenv\n"
     ]
    }
   ],
   "source": [
    "#importing packages\n",
    "import os\n",
    "%load_ext dotenv\n",
    "%dotenv\n",
    "import json\n",
    "import requests\n",
    "import pandas as pd\n",
    "import numpy as np\n",
    "import matplotlib.pyplot as plt\n",
    "import seaborn as sns\n",
    "import time\n",
    "import schedule\n",
    "import math"
   ]
  },
  {
   "cell_type": "code",
   "execution_count": 5,
   "id": "1d9a5816",
   "metadata": {},
   "outputs": [],
   "source": [
    "api_key = str(os.getenv(\"API_KEY\"))\n",
    "\n",
    "headers = {\n",
    "    \"User-Agent\": \"Mozilla/5.0 (Windows NT 10.0; Win64; x64; rv:99.0) Gecko/20100101 Firefox/99.0\",\n",
    "    \"Accept-Language\": \"en-US,en;q=0.5\",\n",
    "    \"Accept-Charset\": \"application/x-www-form-urlencoded; charset=UTF-8\",\n",
    "    \"Origin\": \"https://developer.riotgames.com\"}\n",
    "#append all data to this list\n",
    "league_list = []"
   ]
  },
  {
   "cell_type": "code",
   "execution_count": null,
   "id": "d3936491",
   "metadata": {
    "scrolled": true
   },
   "outputs": [],
   "source": [
    "list_of_tiers = [\"IRON/I\", \"IRON/II\", \"IRON/III\", \"IRON/IV\", \"BRONZE/I\",  \"BRONZE/II\", \"BRONZE/III\", \"BRONZE/IV\"]\n",
    "\n",
    "\n",
    "for tier in list_of_tiers:\n",
    "    for page in range(1, 11, 1):\n",
    "        url = \"https://na1.api.riotgames.com/lol/league/v4/entries/RANKED_SOLO_5x5/\"+tier+\"?page=\"+str(page)+\"&api_key=\"+api_key\n",
    "        req = requests.get(url, headers=headers)\n",
    "        if req.status_code == 200:\n",
    "            data_json = json.loads(req.text)\n",
    "            league_list.extend(data_json)"
   ]
  },
  {
   "cell_type": "code",
   "execution_count": null,
   "id": "21a3e8e4",
   "metadata": {},
   "outputs": [],
   "source": [
    "list_of_tiers = [\"SILVER/I\", \"SILVER/II\", \"SILVER/III\", \"SILVER/IV\", \"GOLD/I\", \"GOLD/II\", \"GOLD/III\", \"GOLD/IV\"]\n",
    "\n",
    "\n",
    "for tier in list_of_tiers:\n",
    "    for page in range(1, 11, 1):\n",
    "        url = \"https://na1.api.riotgames.com/lol/league/v4/entries/RANKED_SOLO_5x5/\"+tier+\"?page=\"+str(page)+\"&api_key=\"+api_key\n",
    "        req = requests.get(url, headers=headers)\n",
    "        if req.status_code == 200:\n",
    "            data_json = json.loads(req.text)\n",
    "            league_list.extend(data_json)"
   ]
  },
  {
   "cell_type": "code",
   "execution_count": null,
   "id": "ee39d85a",
   "metadata": {},
   "outputs": [],
   "source": [
    "list_of_tiers = [\"PLATINUM/I\", \"PLATINUM/II\", \"PLATINUM/III\", \"PLATINUM/IV\",\n",
    "                 \"DIAMOND/I\", \"DIAMOND/II\",  \"DIAMOND/III\", \"DIAMOND/IV\"]\n",
    "\n",
    "\n",
    "for tier in list_of_tiers:\n",
    "    for page in range(1, 11, 1):\n",
    "        url = \"https://na1.api.riotgames.com/lol/league/v4/entries/RANKED_SOLO_5x5/\"+tier+\"?page=\"+str(page)+\"&api_key=\"+api_key\n",
    "        req = requests.get(url, headers=headers)\n",
    "        if req.status_code == 200:\n",
    "            data_json = json.loads(req.text)\n",
    "            league_list.extend(data_json)"
   ]
  },
  {
   "cell_type": "code",
   "execution_count": null,
   "id": "7f4f9566",
   "metadata": {},
   "outputs": [],
   "source": [
    "#master\n",
    "url = \"https://na1.api.riotgames.com/lol/league/v4/masterleagues/by-queue/RANKED_SOLO_5x5?api_key=\"api_key\n",
    "req = requests.get(url, headers=headers)\n",
    "if req.status_code == 200:\n",
    "    data_json = json.loads(req.text)\n",
    "    for entry in data_json['entries']:\n",
    "        entry['tier'] = data_json['tier']\n",
    "        entry['leagueId'] = data_json['leagueId']\n",
    "        entry['queue'] = data_json['queue']\n",
    "        league_list.append(entry)"
   ]
  },
  {
   "cell_type": "code",
   "execution_count": null,
   "id": "96a10ecf",
   "metadata": {},
   "outputs": [],
   "source": [
    "#grandmaster\n",
    "url = \"https://na1.api.riotgames.com/lol/league/v4/grandmasterleagues/by-queue/RANKED_SOLO_5x5?api_key=\"+api_key\n",
    "req = requests.get(url, headers=headers)\n",
    "if req.status_code == 200:\n",
    "    data_json = json.loads(req.text)\n",
    "    for entry in data_json['entries']:\n",
    "        entry['tier'] = data_json['tier']\n",
    "        entry['leagueId'] = data_json['leagueId']\n",
    "        entry['queue'] = data_json['queue']\n",
    "        league_list.append(entry)"
   ]
  },
  {
   "cell_type": "code",
   "execution_count": null,
   "id": "abbceb5e",
   "metadata": {},
   "outputs": [],
   "source": [
    "#challenger\n",
    "url = \"https://na1.api.riotgames.com/lol/league/v4/challengerleagues/by-queue/RANKED_SOLO_5x5?api_key=\"+api_key\n",
    "req = requests.get(url, headers=headers)\n",
    "if req.status_code == 200:\n",
    "    data_json = json.loads(req.text)\n",
    "    for entry in data_json['entries']:\n",
    "        entry['tier'] = data_json['tier']\n",
    "        entry['leagueId'] = data_json['leagueId']\n",
    "        entry['queue'] = data_json['queue']\n",
    "        league_list.append(entry)"
   ]
  },
  {
   "cell_type": "code",
   "execution_count": null,
   "id": "737309d2",
   "metadata": {},
   "outputs": [],
   "source": [
    "import time\n",
    "\n",
    "start_time = time.time()\n",
    "with open('../data/raw/league_json.json', mode='a') as file:\n",
    "    for league in league_list:\n",
    "        league.pop(\"miniSeries\", None)\n",
    "        league.pop(\"entries\", None)\n",
    "        league.pop(\"name\", None)\n",
    "        try:\n",
    "            json.dump(league, file)\n",
    "            file.write('\\n')\n",
    "        except Exception as e:\n",
    "            print(\"No league found: {} with error {}\".format(str(league), str(e)))\n",
    "\n",
    "end_time = time.time()\n",
    "print(end_time - start_time)"
   ]
  },
  {
   "cell_type": "code",
   "execution_count": 6,
   "id": "f0358728",
   "metadata": {},
   "outputs": [],
   "source": [
    "league_dict_list = []\n",
    "with open('../data/raw/league_json.json', encoding='utf-8') as json_file:\n",
    "    for line in json_file:\n",
    "        json_data = json.loads(line)\n",
    "        league_dict_list.append(json_data)\n",
    "league_data = pd.DataFrame(league_dict_list, columns = json_data.keys())"
   ]
  },
  {
   "cell_type": "markdown",
   "id": "3b94e598",
   "metadata": {},
   "source": [
    "I've obtained my first dataset, I need to loop through the summonerName column to continue further."
   ]
  },
  {
   "cell_type": "code",
   "execution_count": 7,
   "id": "502687c6",
   "metadata": {
    "scrolled": false
   },
   "outputs": [
    {
     "name": "stdout",
     "output_type": "stream",
     "text": [
      "<class 'pandas.core.frame.DataFrame'>\n",
      "RangeIndex: 53435 entries, 0 to 53434\n",
      "Data columns (total 13 columns):\n",
      " #   Column        Non-Null Count  Dtype \n",
      "---  ------        --------------  ----- \n",
      " 0   summonerId    53435 non-null  object\n",
      " 1   summonerName  53435 non-null  object\n",
      " 2   leaguePoints  53435 non-null  int64 \n",
      " 3   rank          53435 non-null  object\n",
      " 4   wins          53435 non-null  int64 \n",
      " 5   losses        53435 non-null  int64 \n",
      " 6   veteran       53435 non-null  bool  \n",
      " 7   inactive      53435 non-null  bool  \n",
      " 8   freshBlood    53435 non-null  bool  \n",
      " 9   hotStreak     53435 non-null  bool  \n",
      " 10  tier          53435 non-null  object\n",
      " 11  leagueId      53435 non-null  object\n",
      " 12  queue         4235 non-null   object\n",
      "dtypes: bool(4), int64(3), object(6)\n",
      "memory usage: 3.9+ MB\n"
     ]
    }
   ],
   "source": [
    "league_data.info()"
   ]
  },
  {
   "cell_type": "code",
   "execution_count": 8,
   "id": "a4aea6d4",
   "metadata": {
    "scrolled": false
   },
   "outputs": [
    {
     "data": {
      "text/html": [
       "<div>\n",
       "<style scoped>\n",
       "    .dataframe tbody tr th:only-of-type {\n",
       "        vertical-align: middle;\n",
       "    }\n",
       "\n",
       "    .dataframe tbody tr th {\n",
       "        vertical-align: top;\n",
       "    }\n",
       "\n",
       "    .dataframe thead th {\n",
       "        text-align: right;\n",
       "    }\n",
       "</style>\n",
       "<table border=\"1\" class=\"dataframe\">\n",
       "  <thead>\n",
       "    <tr style=\"text-align: right;\">\n",
       "      <th></th>\n",
       "      <th>summonerId</th>\n",
       "      <th>summonerName</th>\n",
       "      <th>leaguePoints</th>\n",
       "      <th>rank</th>\n",
       "      <th>wins</th>\n",
       "      <th>losses</th>\n",
       "      <th>veteran</th>\n",
       "      <th>inactive</th>\n",
       "      <th>freshBlood</th>\n",
       "      <th>hotStreak</th>\n",
       "      <th>tier</th>\n",
       "      <th>leagueId</th>\n",
       "      <th>queue</th>\n",
       "    </tr>\n",
       "  </thead>\n",
       "  <tbody>\n",
       "    <tr>\n",
       "      <th>0</th>\n",
       "      <td>NNtfHnUGL5EBl6-BAbPZvPL9MXKwHH4nh28ny546ezLceL2u</td>\n",
       "      <td>Soundwave2017</td>\n",
       "      <td>0</td>\n",
       "      <td>I</td>\n",
       "      <td>3</td>\n",
       "      <td>11</td>\n",
       "      <td>False</td>\n",
       "      <td>False</td>\n",
       "      <td>False</td>\n",
       "      <td>False</td>\n",
       "      <td>IRON</td>\n",
       "      <td>a311bb83-f707-4834-a07f-54d3c9fd0178</td>\n",
       "      <td>NaN</td>\n",
       "    </tr>\n",
       "    <tr>\n",
       "      <th>1</th>\n",
       "      <td>LIb_E8K_EyNMOXJcVjde50-dC-zvW5H-WxmpxBtA0Ex1PcoS</td>\n",
       "      <td>kalelover666</td>\n",
       "      <td>74</td>\n",
       "      <td>I</td>\n",
       "      <td>6</td>\n",
       "      <td>10</td>\n",
       "      <td>False</td>\n",
       "      <td>False</td>\n",
       "      <td>False</td>\n",
       "      <td>True</td>\n",
       "      <td>IRON</td>\n",
       "      <td>8e8a1f5e-0135-4dee-9886-57411a0bf631</td>\n",
       "      <td>NaN</td>\n",
       "    </tr>\n",
       "    <tr>\n",
       "      <th>2</th>\n",
       "      <td>mMuKeCWaFDHLCBjKBTX02xql_RdrI_SWkD8lfvbuxCj5jIyB</td>\n",
       "      <td>Davidc409</td>\n",
       "      <td>100</td>\n",
       "      <td>I</td>\n",
       "      <td>33</td>\n",
       "      <td>32</td>\n",
       "      <td>False</td>\n",
       "      <td>False</td>\n",
       "      <td>False</td>\n",
       "      <td>False</td>\n",
       "      <td>IRON</td>\n",
       "      <td>605ac070-5ef0-4f60-a2a2-7648710a3e55</td>\n",
       "      <td>NaN</td>\n",
       "    </tr>\n",
       "    <tr>\n",
       "      <th>3</th>\n",
       "      <td>1cs3ovWaXUtFrEz9ijGUXG5EdHshSJd9SIV64xTnbclfpWFU</td>\n",
       "      <td>brownknight420</td>\n",
       "      <td>53</td>\n",
       "      <td>I</td>\n",
       "      <td>5</td>\n",
       "      <td>6</td>\n",
       "      <td>False</td>\n",
       "      <td>False</td>\n",
       "      <td>False</td>\n",
       "      <td>False</td>\n",
       "      <td>IRON</td>\n",
       "      <td>27f966d1-476d-44ea-a78e-bf0e31b319ba</td>\n",
       "      <td>NaN</td>\n",
       "    </tr>\n",
       "    <tr>\n",
       "      <th>4</th>\n",
       "      <td>WNu7KL4i1uHT_bZ_t6kwFi31SFsgcRiPi5JTLJt9YG2w-vFj</td>\n",
       "      <td>1st Lt LeBlanc</td>\n",
       "      <td>8</td>\n",
       "      <td>I</td>\n",
       "      <td>6</td>\n",
       "      <td>14</td>\n",
       "      <td>False</td>\n",
       "      <td>False</td>\n",
       "      <td>False</td>\n",
       "      <td>False</td>\n",
       "      <td>IRON</td>\n",
       "      <td>5069447f-305f-4b2a-ad36-9539ff7a097e</td>\n",
       "      <td>NaN</td>\n",
       "    </tr>\n",
       "  </tbody>\n",
       "</table>\n",
       "</div>"
      ],
      "text/plain": [
       "                                         summonerId    summonerName  \\\n",
       "0  NNtfHnUGL5EBl6-BAbPZvPL9MXKwHH4nh28ny546ezLceL2u   Soundwave2017   \n",
       "1  LIb_E8K_EyNMOXJcVjde50-dC-zvW5H-WxmpxBtA0Ex1PcoS    kalelover666   \n",
       "2  mMuKeCWaFDHLCBjKBTX02xql_RdrI_SWkD8lfvbuxCj5jIyB       Davidc409   \n",
       "3  1cs3ovWaXUtFrEz9ijGUXG5EdHshSJd9SIV64xTnbclfpWFU  brownknight420   \n",
       "4  WNu7KL4i1uHT_bZ_t6kwFi31SFsgcRiPi5JTLJt9YG2w-vFj  1st Lt LeBlanc   \n",
       "\n",
       "   leaguePoints rank  wins  losses  veteran  inactive  freshBlood  hotStreak  \\\n",
       "0             0    I     3      11    False     False       False      False   \n",
       "1            74    I     6      10    False     False       False       True   \n",
       "2           100    I    33      32    False     False       False      False   \n",
       "3            53    I     5       6    False     False       False      False   \n",
       "4             8    I     6      14    False     False       False      False   \n",
       "\n",
       "   tier                              leagueId queue  \n",
       "0  IRON  a311bb83-f707-4834-a07f-54d3c9fd0178   NaN  \n",
       "1  IRON  8e8a1f5e-0135-4dee-9886-57411a0bf631   NaN  \n",
       "2  IRON  605ac070-5ef0-4f60-a2a2-7648710a3e55   NaN  \n",
       "3  IRON  27f966d1-476d-44ea-a78e-bf0e31b319ba   NaN  \n",
       "4  IRON  5069447f-305f-4b2a-ad36-9539ff7a097e   NaN  "
      ]
     },
     "execution_count": 8,
     "metadata": {},
     "output_type": "execute_result"
    }
   ],
   "source": [
    "league_data.head()"
   ]
  },
  {
   "cell_type": "markdown",
   "id": "e511394d",
   "metadata": {},
   "source": [
    "I ran into a obstacle in querying the API. The whole process takes about 8 hours for the amount of rows I was pulling in. I left the cell running overnight but the Riot server kept manually disconnecting me. I had to implement a class that would pause and restart the process in order to not trigger the timeout."
   ]
  },
  {
   "cell_type": "code",
   "execution_count": null,
   "id": "7533760e",
   "metadata": {
    "scrolled": true
   },
   "outputs": [],
   "source": [
    "summoner_list = []\n",
    "summoner_names = league_data['summonerName']\n",
    "\n",
    "class Timedout:\n",
    "    def __init__(self, list_of_names):\n",
    "        self.list_of_names = list_of_names\n",
    "        self.number_of_requests_per_limit = 100\n",
    "        self.number_of_iterations = math.ceil(len(self.list_of_names)/ self.number_of_requests_per_limit)\n",
    "        self.batch = 0\n",
    "        self.interval_in_seconds = 120 #120 seconds is our limit here\n",
    "        self.execution_time = 0;\n",
    "\n",
    "    def request_name(self):\n",
    "        start_time = time.time()\n",
    "        print(self.list_of_names)\n",
    "        for i in range (0, self.number_of_requests_per_limit):\n",
    "            # we don't want to access the index for the element out of list\n",
    "            try:\n",
    "                url = \"https://na1.api.riotgames.com/lol/summoner/v4/summoners/by-name/\"+self.list_of_names[i].replace(' ', '%20')+\"?api_key=\"+api_key\n",
    "                req = requests.get(url, headers=headers)\n",
    "                if req.status_code == 200:\n",
    "                    data_json = json.loads(req.text)\n",
    "                    summoner_list.append(data_json)\n",
    "            except (IndexError, KeyError) as error:\n",
    "                print(self.list_of_names[i].replace(' ', '%20'))\n",
    "                break\n",
    "        if(len(self.list_of_names) > self.number_of_requests_per_limit):\n",
    "            # slice list_of_names so the next time request_name is called it will call the next batch\n",
    "            self.list_of_names = self.list_of_names[self.number_of_requests_per_limit:].reset_index(drop=True)\n",
    "        self.execution_time = time.time() - start_time\n",
    "\n",
    "    def my_schedule(self):\n",
    "        while 1:\n",
    "            if (self.batch >= self.number_of_iterations):\n",
    "                break\n",
    "            print(\"Batch number\", self.batch)\n",
    "            Timedout.request_name(self)\n",
    "            schedule.run_pending()\n",
    "            sleep_time = self.interval_in_seconds - self.execution_time\n",
    "            if (sleep_time < 0):\n",
    "                sleep_time = 0\n",
    "            print(\"Sleep for: \", sleep_time)\n",
    "            time.sleep(sleep_time)\n",
    "            self.batch += 1\n",
    "\n",
    "\n",
    "\n",
    "myClass = Timedout(summoner_names)\n",
    "myClass.my_schedule()"
   ]
  },
  {
   "cell_type": "code",
   "execution_count": null,
   "id": "18f26ef2",
   "metadata": {},
   "outputs": [],
   "source": [
    "start_time = time.time()\n",
    "with open('../data/raw/summoner_json.json', mode='a') as file:\n",
    "    for summoner in summoner_list:\n",
    "        try:\n",
    "            json.dump(summoner, file)\n",
    "            file.write('\\n')\n",
    "        except Exception as e:\n",
    "            print(\"No summoner found: {} with error {}\".format(str(summoner), str(e)))\n",
    "\n",
    "end_time = time.time()\n",
    "print(end_time - start_time)"
   ]
  },
  {
   "cell_type": "code",
   "execution_count": 9,
   "id": "7a2bbd16",
   "metadata": {},
   "outputs": [],
   "source": [
    "summoner_dict_list = []\n",
    "with open('../data/raw/summoner_json.json', encoding='utf-8') as json_file:\n",
    "    for line in json_file:\n",
    "        json_data = json.loads(line)\n",
    "        summoner_dict_list.append(json_data)\n",
    "summoner_data = pd.DataFrame(summoner_dict_list, columns = json_data.keys())"
   ]
  },
  {
   "cell_type": "markdown",
   "id": "f3340c09",
   "metadata": {},
   "source": [
    "Querying the summoner data complete! Now we need to use the puuids to get match data."
   ]
  },
  {
   "cell_type": "code",
   "execution_count": 10,
   "id": "f5a89d5a",
   "metadata": {
    "scrolled": true
   },
   "outputs": [
    {
     "data": {
      "text/html": [
       "<div>\n",
       "<style scoped>\n",
       "    .dataframe tbody tr th:only-of-type {\n",
       "        vertical-align: middle;\n",
       "    }\n",
       "\n",
       "    .dataframe tbody tr th {\n",
       "        vertical-align: top;\n",
       "    }\n",
       "\n",
       "    .dataframe thead th {\n",
       "        text-align: right;\n",
       "    }\n",
       "</style>\n",
       "<table border=\"1\" class=\"dataframe\">\n",
       "  <thead>\n",
       "    <tr style=\"text-align: right;\">\n",
       "      <th></th>\n",
       "      <th>id</th>\n",
       "      <th>accountId</th>\n",
       "      <th>puuid</th>\n",
       "      <th>name</th>\n",
       "      <th>profileIconId</th>\n",
       "      <th>revisionDate</th>\n",
       "      <th>summonerLevel</th>\n",
       "    </tr>\n",
       "  </thead>\n",
       "  <tbody>\n",
       "    <tr>\n",
       "      <th>0</th>\n",
       "      <td>NE4oDvvTCBGJIKhEDCpoDXo_vujt5xfiJDWdgopM8v4nlGiH</td>\n",
       "      <td>nLnSo8JWwox13L8E-02EBESRwT2k0MZY4rEsrylwJcE9FC...</td>\n",
       "      <td>qVOdaQQvh_u8SusqUUEPl2KvqehyNpsT-RkhUFO60Ss9fA...</td>\n",
       "      <td>Soundwave2017</td>\n",
       "      <td>5240</td>\n",
       "      <td>1652239392000</td>\n",
       "      <td>211</td>\n",
       "    </tr>\n",
       "    <tr>\n",
       "      <th>1</th>\n",
       "      <td>Fl9aoX72L1_vXqFbWLkMt2sjLPPFTJf01EOWG6eUfl8PXID9</td>\n",
       "      <td>GvRSKZcw57uUl1KWfg0DrubVZwqc14CR85W2Ye5jU9lhWB...</td>\n",
       "      <td>1j0dLBNv6C1Efi1uu6b4UBovbtqU1g3WcHFDO1MzU5nMei...</td>\n",
       "      <td>kalelover666</td>\n",
       "      <td>4902</td>\n",
       "      <td>1652161979000</td>\n",
       "      <td>240</td>\n",
       "    </tr>\n",
       "    <tr>\n",
       "      <th>2</th>\n",
       "      <td>fNpQis_en_lhQvYttAasaOsdq-y-ZS4TwtDfCsc-gQK4a-JG</td>\n",
       "      <td>vLM5Ex6Mi1oIuZ2vKlj0r_qm4JEYqKd0Qr3Qy3XFmmWB0a...</td>\n",
       "      <td>kGVq3XIa5GvuXZmQfNiPP9_Ijns6oahP8mIjxl_iZbgxcM...</td>\n",
       "      <td>Davidc409</td>\n",
       "      <td>4272</td>\n",
       "      <td>1652204358000</td>\n",
       "      <td>153</td>\n",
       "    </tr>\n",
       "    <tr>\n",
       "      <th>3</th>\n",
       "      <td>jA3Lwl4tcfhBI0gGvfn17opUtGsmzyzneJMUln-rCvjz7Jr3</td>\n",
       "      <td>4-8phKXR7ZGhmxdvO8pdKokPXJTnUWY-MFkQL29RIsPyTW...</td>\n",
       "      <td>D5E-826NdMh-w1pNJj7ZmTTHgpSIbYobQhng4QDT2I9Kx8...</td>\n",
       "      <td>brownknight420</td>\n",
       "      <td>5082</td>\n",
       "      <td>1652242178000</td>\n",
       "      <td>159</td>\n",
       "    </tr>\n",
       "    <tr>\n",
       "      <th>4</th>\n",
       "      <td>erasEE67tBk9w1o1iJMrzKtE_CfXlOFEDFpQHlde3N56G-NS</td>\n",
       "      <td>zJrkNxjxH_WqGpYwEN5s-QPx2hGK97fKV0e5UhNdZ2K54T...</td>\n",
       "      <td>IYSM3VZ46iG6wuI832EHoILn4qywJvcSMv0Exc0Yc3ZH5t...</td>\n",
       "      <td>1st Lt LeBlanc</td>\n",
       "      <td>1162</td>\n",
       "      <td>1645664109000</td>\n",
       "      <td>141</td>\n",
       "    </tr>\n",
       "  </tbody>\n",
       "</table>\n",
       "</div>"
      ],
      "text/plain": [
       "                                                 id  \\\n",
       "0  NE4oDvvTCBGJIKhEDCpoDXo_vujt5xfiJDWdgopM8v4nlGiH   \n",
       "1  Fl9aoX72L1_vXqFbWLkMt2sjLPPFTJf01EOWG6eUfl8PXID9   \n",
       "2  fNpQis_en_lhQvYttAasaOsdq-y-ZS4TwtDfCsc-gQK4a-JG   \n",
       "3  jA3Lwl4tcfhBI0gGvfn17opUtGsmzyzneJMUln-rCvjz7Jr3   \n",
       "4  erasEE67tBk9w1o1iJMrzKtE_CfXlOFEDFpQHlde3N56G-NS   \n",
       "\n",
       "                                           accountId  \\\n",
       "0  nLnSo8JWwox13L8E-02EBESRwT2k0MZY4rEsrylwJcE9FC...   \n",
       "1  GvRSKZcw57uUl1KWfg0DrubVZwqc14CR85W2Ye5jU9lhWB...   \n",
       "2  vLM5Ex6Mi1oIuZ2vKlj0r_qm4JEYqKd0Qr3Qy3XFmmWB0a...   \n",
       "3  4-8phKXR7ZGhmxdvO8pdKokPXJTnUWY-MFkQL29RIsPyTW...   \n",
       "4  zJrkNxjxH_WqGpYwEN5s-QPx2hGK97fKV0e5UhNdZ2K54T...   \n",
       "\n",
       "                                               puuid            name  \\\n",
       "0  qVOdaQQvh_u8SusqUUEPl2KvqehyNpsT-RkhUFO60Ss9fA...   Soundwave2017   \n",
       "1  1j0dLBNv6C1Efi1uu6b4UBovbtqU1g3WcHFDO1MzU5nMei...    kalelover666   \n",
       "2  kGVq3XIa5GvuXZmQfNiPP9_Ijns6oahP8mIjxl_iZbgxcM...       Davidc409   \n",
       "3  D5E-826NdMh-w1pNJj7ZmTTHgpSIbYobQhng4QDT2I9Kx8...  brownknight420   \n",
       "4  IYSM3VZ46iG6wuI832EHoILn4qywJvcSMv0Exc0Yc3ZH5t...  1st Lt LeBlanc   \n",
       "\n",
       "   profileIconId   revisionDate  summonerLevel  \n",
       "0           5240  1652239392000            211  \n",
       "1           4902  1652161979000            240  \n",
       "2           4272  1652204358000            153  \n",
       "3           5082  1652242178000            159  \n",
       "4           1162  1645664109000            141  "
      ]
     },
     "execution_count": 10,
     "metadata": {},
     "output_type": "execute_result"
    }
   ],
   "source": [
    "summoner_data.head()"
   ]
  },
  {
   "cell_type": "code",
   "execution_count": 11,
   "id": "b661e239",
   "metadata": {
    "scrolled": false
   },
   "outputs": [
    {
     "data": {
      "text/plain": [
       "aSEgGIsEBsnZuZ5tn6gOjFtaKdwPJRt2LsDqKsgoMlOqQqT7CIOMDzcfJlrwTiqLlLmfUssJiL5GbA    2\n",
       "FM2sYkSMZEp2zEjbN_4LCWmYjuKQqTZ3n7g_-53KWvsgQNNqvvXzsqL046jYBJIiVpIIH9NrMxgcJA    2\n",
       "l2J6OT9vbv0P2SwVBgax7ivcsujWB0U5rQbYLraT8OPPACPCepdgqr3rNy-T9KYjLGa7Ydl0Q-r4dQ    2\n",
       "o2zGARIyRajzc1OFpGLstEXFEGSz-tCcEeWt3JCU-JIcvyvScD-ckmW46BnEp-xmauHc8vD-aDh_MA    2\n",
       "dof9apSv11Mm99isv5ASQJJKA9D06MD3DHIvgsLq1rxkB9pvVO-_NYhqdIPIFAZ3YdGjme9Nhncqug    2\n",
       "                                                                                 ..\n",
       "mRcza6dmI7XqUQJOwzhkM08t0T8n3_uS7c3wQdrzwaBC-zp0C4PikHJIrAPYgDrOqrdR2J3Rxi9wiQ    1\n",
       "rBuRDV9FcPkvk5oOctfdoH1gBru_z7KCOZAXPR0Xv-zW8Wd6QktGocYNfETrB_x0VHxlIkyc7z8QsA    1\n",
       "EOcljVwVtj--8NGiLDer-tmdpdcgJMeZyEliUsTKqKHwu5ZbVpGivgYn7bPBN_-RYD7BKUa3pAipsQ    1\n",
       "_cVzazEXis0uY-RC9OCaX3oxiBGz5V0z4yDU5axrDirjC-Vna9N92tkkv-KYqa8qGoPBmmW96BqQ_g    1\n",
       "sQYQFOr-ZV-4d3mGDNNrT6Wmh3-yyLYZUkHmYEqQ6oPKYlfFvZjCCDC1Ht_V9NBqYTR0hGfYROP70w    1\n",
       "Name: puuid, Length: 50560, dtype: int64"
      ]
     },
     "execution_count": 11,
     "metadata": {},
     "output_type": "execute_result"
    }
   ],
   "source": [
    "summoner_data.puuid.value_counts()"
   ]
  },
  {
   "cell_type": "markdown",
   "id": "9959d77e",
   "metadata": {},
   "source": [
    "Get the match ids per puuid."
   ]
  },
  {
   "cell_type": "code",
   "execution_count": null,
   "id": "101b9c05",
   "metadata": {
    "scrolled": true
   },
   "outputs": [],
   "source": [
    "#get match puuids\n",
    "puuid_list = []\n",
    "match_puuids = summoner_data['puuid']\n",
    "\n",
    "class Timedout:\n",
    "    def __init__(self, list_of_names):\n",
    "        self.list_of_names = list_of_names\n",
    "        self.number_of_requests_per_limit = 100\n",
    "        self.number_of_iterations = math.ceil(len(self.list_of_names)/ self.number_of_requests_per_limit)\n",
    "        self.batch = 0\n",
    "        self.interval_in_seconds = 122 #120 seconds is our limit here\n",
    "        self.excecution_time = 0;\n",
    "\n",
    "    def request_name(self):\n",
    "        start_time = time.time()\n",
    "        print(self.list_of_names)\n",
    "        for i in range (0, self.number_of_requests_per_limit):\n",
    "            # we don't want to access the index for the element out of list\n",
    "            try:\n",
    "                url = \"https://americas.api.riotgames.com/lol/match/v5/matches/by-puuid/\"+self.list_of_names[i]+\"/ids?type=ranked&start=0&count=100&api_key=\"+api_key\n",
    "                req = requests.get(url, headers=headers)\n",
    "                if req.status_code == 200:\n",
    "                    data_json = json.loads(req.text)\n",
    "                    puuid_list.append(data_json)\n",
    "                time.sleep(1)\n",
    "            except (IndexError, KeyError, ConnectionError) as error:\n",
    "                if (ConnectionError):\n",
    "                    print(error)\n",
    "                    time.sleep(60)\n",
    "                    pass\n",
    "                else: \n",
    "                    break\n",
    "        if(len(self.list_of_names) > self.number_of_requests_per_limit):\n",
    "            # slice list_of_names so the next time request_name is called it will call the next batch\n",
    "            self.list_of_names = self.list_of_names[self.number_of_requests_per_limit:].reset_index(drop=True)\n",
    "        self.excecution_time = time.time() - start_time\n",
    "        print(success_rate) # success rate of this batch\n",
    "\n",
    "    def my_schedule(self):\n",
    "        while 1:\n",
    "            if (self.batch >= self.number_of_iterations):\n",
    "                break\n",
    "            print(\"Batch number\", self.batch)\n",
    "            Timedout.request_name(self)\n",
    "            schedule.run_pending()\n",
    "            sleep_time = self.interval_in_seconds - self.excecution_time\n",
    "            if (sleep_time < 0):\n",
    "                sleep_time = 0\n",
    "            print(\"sleep for: \", sleep_time)\n",
    "            time.sleep(sleep_time)\n",
    "            self.batch += 1\n",
    "\n",
    "\n",
    "\n",
    "myClass = Timedout(match_puuids)\n",
    "myClass.my_schedule()"
   ]
  },
  {
   "cell_type": "code",
   "execution_count": null,
   "id": "502a1eeb",
   "metadata": {},
   "outputs": [],
   "source": [
    "start_time = time.time()\n",
    "with open('../data/raw/puuid_json.json', mode='a') as file:\n",
    "    flat_list = list(np.concatenate(puuid_list).flat)\n",
    "    for puuid in flat_list:\n",
    "        try:\n",
    "            json.dump(puuid, file)\n",
    "            file.write('\\n')\n",
    "        except Exception as e:\n",
    "            print(\"No puuid found: {} with error {}\".format(str(puuid), str(e)))\n",
    "\n",
    "end_time = time.time()\n",
    "print(end_time - start_time)"
   ]
  },
  {
   "cell_type": "markdown",
   "id": "3fb950d0",
   "metadata": {},
   "source": [
    "All thats left is to query the match data with given match ids."
   ]
  },
  {
   "cell_type": "code",
   "execution_count": null,
   "id": "26959af9",
   "metadata": {
    "scrolled": true
   },
   "outputs": [],
   "source": [
    "#get matchs per match id from flattened list\n",
    "puuid_flattened_list = []\n",
    "with open('../data/raw/puuid_json.json', encoding='utf-8') as json_file:\n",
    "    for line in json_file:\n",
    "        json_data = json.loads(line)\n",
    "        puuid_flattened_list.append(json_data)\n",
    "        \n",
    "match_list = []\n",
    "\n",
    "class Timedout:\n",
    "    def __init__(self, list_of_names):\n",
    "        self.list_of_names = list_of_names\n",
    "        self.number_of_requests_per_limit = 100\n",
    "        self.number_of_iterations = math.ceil(len(self.list_of_names)/ self.number_of_requests_per_limit)\n",
    "        self.batch = 0\n",
    "        self.interval_in_seconds = 180 #180 seconds is our limit here\n",
    "        self.excecution_time = 0;\n",
    "\n",
    "    def request_name(self):\n",
    "        start_time = time.time()\n",
    "        print(self.list_of_names)\n",
    "        success_rate = 0\n",
    "        for i in range (0, self.number_of_requests_per_limit):\n",
    "            # we don't want to access the index for the element out of list\n",
    "            try:\n",
    "                url = \"https://americas.api.riotgames.com/lol/match/v5/matches/\"+self.list_of_names[i]+\"?api_key=\"+api_key\n",
    "                req = requests.get(url, headers=headers)\n",
    "                if req.status_code == 200:\n",
    "                    success_rate += 1\n",
    "                    data_json = json.loads(req.text)\n",
    "                    match_list.append(data_json)\n",
    "                time.sleep(1)\n",
    "            except (IndexError, KeyError, ConnectionError) as error:\n",
    "                if (ConnectionError):\n",
    "                    print(error)\n",
    "                    time.sleep(60)\n",
    "                    pass\n",
    "                else: \n",
    "                    break\n",
    "        if(len(self.list_of_names) > self.number_of_requests_per_limit):\n",
    "            # slice list_of_names so the next time request_name is called it will call the next batch\n",
    "            self.list_of_names = self.list_of_names[self.number_of_requests_per_limit:]\n",
    "        self.excecution_time = time.time() - start_time\n",
    "        print(success_rate) # success rate of this batch\n",
    "\n",
    "    def my_schedule(self):\n",
    "        while 1:\n",
    "            if (self.batch >= self.number_of_iterations):\n",
    "                break\n",
    "            print(\"Batch number\", self.batch)\n",
    "            Timedout.request_name(self)\n",
    "            schedule.run_pending()\n",
    "            sleep_time = self.interval_in_seconds - self.excecution_time\n",
    "            if (sleep_time < 0):\n",
    "                sleep_time = 0\n",
    "            print(\"sleep for: \", sleep_time)\n",
    "            time.sleep(sleep_time)\n",
    "            self.batch += 1\n",
    "\n",
    "\n",
    "myClass = Timedout(puuid_flattened_list)\n",
    "myClass.my_schedule()"
   ]
  },
  {
   "cell_type": "code",
   "execution_count": null,
   "id": "0dc2e9e9",
   "metadata": {},
   "outputs": [],
   "source": [
    "start_time = time.time()\n",
    "with open('../data/raw/match_json.json', mode='a') as file:\n",
    "    for match in match_list:\n",
    "        try:\n",
    "            json.dump(match, file)\n",
    "            file.write('\\n')\n",
    "        except Exception as e:\n",
    "            print(\"No match found: {} with error {}\".format(str(match), str(e)))\n",
    "\n",
    "end_time = time.time()\n",
    "print(end_time - start_time)"
   ]
  },
  {
   "cell_type": "markdown",
   "id": "3c302c9f",
   "metadata": {},
   "source": [
    "We have all the JSON's we need to form the master data set, follow along in the next book for EDA and wrangling!."
   ]
  }
 ],
 "metadata": {
  "kernelspec": {
   "display_name": "Python 3 (ipykernel)",
   "language": "python",
   "name": "python3"
  },
  "language_info": {
   "codemirror_mode": {
    "name": "ipython",
    "version": 3
   },
   "file_extension": ".py",
   "mimetype": "text/x-python",
   "name": "python",
   "nbconvert_exporter": "python",
   "pygments_lexer": "ipython3",
   "version": "3.8.13"
  },
  "toc": {
   "base_numbering": 1,
   "nav_menu": {},
   "number_sections": false,
   "sideBar": true,
   "skip_h1_title": false,
   "title_cell": "Table of Contents",
   "title_sidebar": "Contents",
   "toc_cell": false,
   "toc_position": {
    "height": "calc(100% - 180px)",
    "left": "10px",
    "top": "150px",
    "width": "512px"
   },
   "toc_section_display": true,
   "toc_window_display": false
  },
  "varInspector": {
   "cols": {
    "lenName": 16,
    "lenType": 16,
    "lenVar": 40
   },
   "kernels_config": {
    "python": {
     "delete_cmd_postfix": "",
     "delete_cmd_prefix": "del ",
     "library": "var_list.py",
     "varRefreshCmd": "print(var_dic_list())"
    },
    "r": {
     "delete_cmd_postfix": ") ",
     "delete_cmd_prefix": "rm(",
     "library": "var_list.r",
     "varRefreshCmd": "cat(var_dic_list()) "
    }
   },
   "position": {
    "height": "204.85px",
    "left": "1584px",
    "right": "20px",
    "top": "120px",
    "width": "316px"
   },
   "types_to_exclude": [
    "module",
    "function",
    "builtin_function_or_method",
    "instance",
    "_Feature"
   ],
   "window_display": false
  }
 },
 "nbformat": 4,
 "nbformat_minor": 5
}
